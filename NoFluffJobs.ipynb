{
 "cells": [
  {
   "cell_type": "code",
   "execution_count": 9,
   "metadata": {},
   "outputs": [],
   "source": [
    "from bs4 import BeautifulSoup # możliwość ściągnięcia kodu HTML\n",
    "import requests # wysyłanie requestu do strony o jej kod HTML\n",
    "import re # używanie Regexu\n",
    "import pandas as pd # Bibilioteka do analizy zbioru"
   ]
  },
  {
   "cell_type": "code",
   "execution_count": null,
   "metadata": {},
   "outputs": [],
   "source": [
    "url = 'https://nofluffjobs.com/pl' \n",
    "page = requests.get(url)\n",
    "soup = BeautifulSoup(page.text, \"html.parser\")\n",
    "print(soup.prettify())\n"
   ]
  },
  {
   "cell_type": "code",
   "execution_count": 11,
   "metadata": {},
   "outputs": [],
   "source": [
    "job_name_soup = soup.find_all('h3', class_ = \"posting-title__position text-truncate color-main ng-star-inserted\")"
   ]
  },
  {
   "cell_type": "code",
   "execution_count": null,
   "metadata": {},
   "outputs": [],
   "source": [
    "txt = str(job_name_soup) \n",
    "pattern = r'>\\s*(.*?)\\s*<'\n",
    "mateches = re.findall(pattern, txt)\n",
    "mateches\n",
    "job_names = []\n",
    "for indeks, i in enumerate(mateches):\n",
    "    if indeks % 2 == 0:\n",
    "        job_names.append(i)\n",
    "\n",
    "job_names"
   ]
  },
  {
   "cell_type": "code",
   "execution_count": 13,
   "metadata": {},
   "outputs": [],
   "source": [
    "salary = soup.find_all('span', class_ = \"text-truncate badgy salary lg:tw-btn tw-text-ink lg:tw-btn-secondary-outline tw-text-xs lg:tw-py-0.5 lg:tw-px-2 ng-star-inserted\")\n",
    "salaries = []\n",
    "for i in salary:\n",
    "    s = i.get_text()\n",
    "    salaries.append(s)\n",
    "\n",
    "# salaries"
   ]
  },
  {
   "cell_type": "code",
   "execution_count": null,
   "metadata": {},
   "outputs": [],
   "source": [
    "requirements = soup.find_all('div', class_ = \"lg:tw-w-[50%] lg:tw-pr-3 tw-flex-[0_0_50%]\")\n",
    "requirements"
   ]
  },
  {
   "cell_type": "code",
   "execution_count": 15,
   "metadata": {},
   "outputs": [],
   "source": [
    "misa = []\n",
    "\n",
    "for i in requirements:\n",
    "    noodle = i.find_all('span', class_ = \"lg:tw-text-gray-60 lg:tw-border-2 lg:tw-border-gray-ddd tw-text-xs tw-lowercase lg:tw-py-0.5 lg:tw-px-2 tw-text-gray-60\")\n",
    "    # print(xd)\n",
    "    bowl = []\n",
    "    for j in noodle:\n",
    "        carrot = str(j)\n",
    "        # print(j)\n",
    "        spoon = re.findall(pattern,carrot)\n",
    "        # print(spoon)\n",
    "        bowl.append(spoon)\n",
    "    misa.append(bowl)\n",
    "\n",
    "# misa"
   ]
  },
  {
   "cell_type": "code",
   "execution_count": 16,
   "metadata": {},
   "outputs": [],
   "source": [
    "company = soup.find_all('h4', class_ = 'tw-text-gray-60 company-name tw-w-[50%] lg:tw-w-auto tw-mb-0 !tw-text-xs !lg:tw-text-sm tw-font-semibold lg:tw-font-normal' )\n",
    "pattern = '>\\s(.*?)\\s<'\n",
    "companies = []\n",
    "for i in company:\n",
    "    i = str(i)\n",
    "    carrot = re.findall(pattern, i)\n",
    "    companies.append(carrot)\n",
    "\n",
    "# companies"
   ]
  },
  {
   "cell_type": "code",
   "execution_count": 17,
   "metadata": {},
   "outputs": [],
   "source": [
    "city = soup.find_all('span', class_ = 'tw-text-ellipsis tw-inline-block tw-overflow-hidden tw-whitespace-nowrap tw-max-w-[100px] md:tw-max-w-[200px] tw-text-right')\n",
    "cities = []\n",
    "pattern = '>\\s(.*?)\\s<'\n",
    "for i in city:\n",
    "    i = str(i)\n",
    "    carrot = re.findall(pattern, i)\n",
    "    cities.append(carrot)\n",
    "#cities"
   ]
  },
  {
   "cell_type": "code",
   "execution_count": 18,
   "metadata": {},
   "outputs": [],
   "source": [
    "df = {\n",
    "    'Firma': companies,\n",
    "    'Stanowisko': job_names,\n",
    "    'Widełki': salaries,\n",
    "    'Wymagania': misa,\n",
    "    'Lokalizacja': cities\n",
    "}\n",
    "\n",
    "df = pd.DataFrame(df)\n",
    "df.to_excel('NoFluffJobs.xlsx', index = False)"
   ]
  },
  {
   "cell_type": "code",
   "execution_count": null,
   "metadata": {},
   "outputs": [],
   "source": [
    "df"
   ]
  }
 ],
 "metadata": {
  "kernelspec": {
   "display_name": "Python 3",
   "language": "python",
   "name": "python3"
  },
  "language_info": {
   "codemirror_mode": {
    "name": "ipython",
    "version": 3
   },
   "file_extension": ".py",
   "mimetype": "text/x-python",
   "name": "python",
   "nbconvert_exporter": "python",
   "pygments_lexer": "ipython3",
   "version": "3.10.0"
  }
 },
 "nbformat": 4,
 "nbformat_minor": 2
}
