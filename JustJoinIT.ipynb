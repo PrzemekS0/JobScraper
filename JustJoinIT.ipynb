{
 "cells": [
  {
   "cell_type": "markdown",
   "metadata": {},
   "source": [
    "# Just Join IT"
   ]
  },
  {
   "cell_type": "code",
   "execution_count": 92,
   "metadata": {},
   "outputs": [],
   "source": [
    "from bs4 import BeautifulSoup # możliwość ściągnięcia kodu HTML\n",
    "import requests # wysyłanie requestu do strony o jej kod HTML\n",
    "import re # używanie Regexu\n",
    "import pandas as pd # Bibilioteka do analizy zbioru"
   ]
  },
  {
   "cell_type": "code",
   "execution_count": null,
   "metadata": {},
   "outputs": [],
   "source": [
    "url = 'https://justjoin.it/' \n",
    "page = requests.get(url)\n",
    "soup = BeautifulSoup(page.text, \"html.parser\")\n",
    "print(soup.prettify())"
   ]
  },
  {
   "cell_type": "code",
   "execution_count": null,
   "metadata": {},
   "outputs": [],
   "source": [
    "nazwa = soup.find_all('h2')\n",
    "nazwa"
   ]
  },
  {
   "cell_type": "code",
   "execution_count": null,
   "metadata": {},
   "outputs": [],
   "source": [
    "tekst = str(nazwa) \n",
    "pattern = r'>\\s*(.*?)\\s*<'\n",
    "mateches = re.findall(pattern, tekst)\n",
    "mateches\n",
    "stanowiska = []\n",
    "for indeks, i in enumerate(mateches):\n",
    "    if indeks % 2 == 0:\n",
    "        stanowiska.append(i)\n",
    "stanowiska"
   ]
  },
  {
   "cell_type": "code",
   "execution_count": null,
   "metadata": {},
   "outputs": [],
   "source": [
    "lokalizacja = soup.find_all('span', class_ = 'css-1o4wo1x')\n",
    "lokalizacja"
   ]
  },
  {
   "cell_type": "code",
   "execution_count": null,
   "metadata": {},
   "outputs": [],
   "source": [
    "tekst = str(lokalizacja)\n",
    "pattern = r'>\\s*(.*?)\\s*<'\n",
    "loc = re.findall(pattern, tekst)\n",
    "lokalizacja = []\n",
    "for indeks, i in enumerate(loc):\n",
    "    if indeks % 2 == 0:\n",
    "        lokalizacja.append(i)\n",
    "lokalizacja"
   ]
  },
  {
   "cell_type": "code",
   "execution_count": null,
   "metadata": {},
   "outputs": [],
   "source": [
    "widelki = soup.find_all('div', class_ = 'css-1b2ga3v')\n",
    "widelki"
   ]
  },
  {
   "cell_type": "code",
   "execution_count": 99,
   "metadata": {},
   "outputs": [],
   "source": [
    "pattern = r'\\b(\\d{1,3}(?: \\d{3})*(?:\\.\\d{2})?)\\b'"
   ]
  },
  {
   "cell_type": "code",
   "execution_count": null,
   "metadata": {},
   "outputs": [],
   "source": [
    "widly = []\n",
    "for indeks, i in enumerate(widelki):\n",
    "    w1 = str(widelki[indeks])\n",
    "    w2 = re.findall(pattern, w1)\n",
    "    widly.append(w2)\n",
    "widly"
   ]
  },
  {
   "cell_type": "code",
   "execution_count": 101,
   "metadata": {},
   "outputs": [],
   "source": [
    "Widełki = []"
   ]
  },
  {
   "cell_type": "code",
   "execution_count": 102,
   "metadata": {},
   "outputs": [],
   "source": [
    "for indeks, i in enumerate(widly):\n",
    "    l = []\n",
    "    for j in range(2):\n",
    "        if len(widly[indeks]) == 2:\n",
    "            a = widly[indeks][j]\n",
    "            b = a.replace(\" \",\"\")\n",
    "            # print(b)\n",
    "            b = int(b)\n",
    "            l.append(b)\n",
    "        else:\n",
    "            continue\n",
    "    Widełki.append(l)   \n"
   ]
  },
  {
   "cell_type": "code",
   "execution_count": null,
   "metadata": {},
   "outputs": [],
   "source": [
    "Widełki"
   ]
  },
  {
   "cell_type": "code",
   "execution_count": null,
   "metadata": {},
   "outputs": [],
   "source": [
    "# currency (waluta)\n",
    "waluty = soup.find_all('span', class_ = 'css-jmy9db')\n",
    "waluty"
   ]
  },
  {
   "cell_type": "code",
   "execution_count": null,
   "metadata": {},
   "outputs": [],
   "source": [
    "waluta = []\n",
    "for indeks, i in enumerate(waluty):\n",
    "    txt = str(waluty[indeks])\n",
    "    pattern = r'<span class=\"css-jmy9db\">(.*?)<\\/span>'\n",
    "    w = re.findall(pattern, txt)\n",
    "    waluta.append(w)\n",
    "waluta"
   ]
  },
  {
   "cell_type": "code",
   "execution_count": null,
   "metadata": {},
   "outputs": [],
   "source": [
    "waluta1 = []\n",
    "for indeks, i in enumerate(waluty):\n",
    "    k = waluta[indeks][0]\n",
    "    waluta1.append(k)\n",
    "waluta1"
   ]
  },
  {
   "cell_type": "code",
   "execution_count": null,
   "metadata": {},
   "outputs": [],
   "source": [
    "nazwa = soup.find_all('div', class_ = 'css-ldh1c9')\n",
    "firmy = []\n",
    "for indeks, i in enumerate(nazwa):\n",
    "    txt = str(nazwa[indeks])\n",
    "    pattern = r'<span>(.*?)<\\/span>'\n",
    "    w = re.findall(pattern, txt)\n",
    "    firmy.append(w)\n",
    "firmy"
   ]
  },
  {
   "cell_type": "code",
   "execution_count": null,
   "metadata": {},
   "outputs": [],
   "source": [
    "firma = []\n",
    "for indeks, i in enumerate(firmy):\n",
    "    k = firmy[indeks][0]\n",
    "    firma.append(k)\n",
    "firma"
   ]
  },
  {
   "cell_type": "code",
   "execution_count": 109,
   "metadata": {},
   "outputs": [],
   "source": [
    "data = {\n",
    "    'Firma' : firma,\n",
    "    'Stanowisko' : stanowiska,\n",
    "    'Lokalizacja' : lokalizacja,\n",
    "    'Widełki' : Widełki,\n",
    "\n",
    "}"
   ]
  },
  {
   "cell_type": "code",
   "execution_count": null,
   "metadata": {},
   "outputs": [],
   "source": [
    "df = pd.DataFrame(data) # utworzenie DataFrame\n",
    "df.to_excel('JustJoinIT.xlsx', index = False) # zapis tabeli do Excel\n",
    "df"
   ]
  }
 ],
 "metadata": {
  "kernelspec": {
   "display_name": "Python 3",
   "language": "python",
   "name": "python3"
  },
  "language_info": {
   "codemirror_mode": {
    "name": "ipython",
    "version": 3
   },
   "file_extension": ".py",
   "mimetype": "text/x-python",
   "name": "python",
   "nbconvert_exporter": "python",
   "pygments_lexer": "ipython3",
   "version": "3.10.0"
  }
 },
 "nbformat": 4,
 "nbformat_minor": 2
}
