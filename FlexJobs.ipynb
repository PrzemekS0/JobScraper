{
 "cells": [
  {
   "cell_type": "code",
   "execution_count": 3,
   "metadata": {},
   "outputs": [],
   "source": [
    "from bs4 import BeautifulSoup # możliwość ściągnięcia kodu HTML\n",
    "import requests # wysyłanie requestu do strony o jej kod HTML\n",
    "import re # używanie Regexu\n",
    "import pandas as pd # Bibilioteka do analizy zbioru"
   ]
  },
  {
   "cell_type": "code",
   "execution_count": null,
   "metadata": {},
   "outputs": [],
   "source": [
    "url = 'https://www.flexjobs.com/remote-jobs/computer-it' \n",
    "page = requests.get(url)\n",
    "soup = BeautifulSoup(page.text, \"html.parser\")\n",
    "print(soup.prettify())"
   ]
  },
  {
   "cell_type": "code",
   "execution_count": null,
   "metadata": {},
   "outputs": [],
   "source": [
    "job_name_soup = soup.find_all('a', class_ = 'job-title job-link')\n",
    "job_name_soup"
   ]
  },
  {
   "cell_type": "code",
   "execution_count": null,
   "metadata": {},
   "outputs": [],
   "source": [
    "\n",
    "jobs = []\n",
    "pattern = r'>\\s*(.*?)\\s*<'\n",
    "for indeks, i in enumerate(job_name_soup):\n",
    "    i = str(i)\n",
    "    job_name = re.findall(pattern, i)\n",
    "    a = []\n",
    "    for i in job_name:\n",
    "        if i != '':\n",
    "            a.append(i)\n",
    "        else:\n",
    "            continue\n",
    "    jobs.append(a)\n",
    "\n",
    "jobs\n",
    "    "
   ]
  },
  {
   "cell_type": "code",
   "execution_count": null,
   "metadata": {},
   "outputs": [],
   "source": [
    "location = soup.find_all('div', class_= 'col pe-0 job-locations text-truncate')\n",
    "location"
   ]
  },
  {
   "cell_type": "code",
   "execution_count": null,
   "metadata": {},
   "outputs": [],
   "source": [
    "job_loc = []\n",
    "pattern = r'>\\s*(.*?)\\s*<'\n",
    "for indeks, i in enumerate(location):\n",
    "    i = str(i)\n",
    "    job_name = re.findall(pattern, i)\n",
    "    a = []\n",
    "    for i in job_name:\n",
    "        if i != '':\n",
    "            a.append(i)\n",
    "        else:\n",
    "            continue\n",
    "    job_loc.append(a)\n",
    "\n",
    "job_loc"
   ]
  },
  {
   "cell_type": "code",
   "execution_count": null,
   "metadata": {},
   "outputs": [],
   "source": [
    "desc_soup = soup.find_all('div', class_= 'job-description')\n",
    "desc_soup"
   ]
  },
  {
   "cell_type": "code",
   "execution_count": null,
   "metadata": {},
   "outputs": [],
   "source": [
    "job_description = []\n",
    "pattern = r'>\\s*(.*?)\\s*<'\n",
    "for indeks, i in enumerate(desc_soup):\n",
    "    i = str(i)\n",
    "    job_name = re.findall(pattern, i)\n",
    "    a = []\n",
    "    for i in job_name:\n",
    "        if i != '':\n",
    "            a.append(i)\n",
    "        else:\n",
    "            continue\n",
    "    job_description.append(a)\n",
    "\n",
    "job_description"
   ]
  },
  {
   "cell_type": "code",
   "execution_count": 11,
   "metadata": {},
   "outputs": [],
   "source": [
    "data = {\n",
    "    'Stanowisko' : jobs,\n",
    "    'Lokalizacja' : job_loc,\n",
    "    'Opis': job_description\n",
    "\n",
    "}"
   ]
  },
  {
   "cell_type": "code",
   "execution_count": 12,
   "metadata": {},
   "outputs": [],
   "source": [
    "df = pd.DataFrame(data)\n",
    "df.to_excel('FlexJobs.xlsx', index = False)"
   ]
  },
  {
   "cell_type": "code",
   "execution_count": null,
   "metadata": {},
   "outputs": [],
   "source": [
    "df"
   ]
  }
 ],
 "metadata": {
  "kernelspec": {
   "display_name": "Python 3",
   "language": "python",
   "name": "python3"
  },
  "language_info": {
   "codemirror_mode": {
    "name": "ipython",
    "version": 3
   },
   "file_extension": ".py",
   "mimetype": "text/x-python",
   "name": "python",
   "nbconvert_exporter": "python",
   "pygments_lexer": "ipython3",
   "version": "3.10.0"
  }
 },
 "nbformat": 4,
 "nbformat_minor": 2
}
